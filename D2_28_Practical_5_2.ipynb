{
  "cells": [
    {
      "cell_type": "markdown",
      "source": [
        "Name:Ankit Gaidhar"
      ],
      "metadata": {
        "id": "N1m7n9CG_uve"
      },
      "id": "N1m7n9CG_uve"
    },
    {
      "cell_type": "markdown",
      "source": [
        "Practical_5_2"
      ],
      "metadata": {
        "id": "2O076kqo_umX"
      },
      "id": "2O076kqo_umX"
    },
    {
      "cell_type": "markdown",
      "source": [
        "Roll_no:D2_28"
      ],
      "metadata": {
        "id": "CjR5SDaz_ubT"
      },
      "id": "CjR5SDaz_ubT"
    },
    {
      "cell_type": "code",
      "execution_count": null,
      "id": "022bbb7b",
      "metadata": {
        "id": "022bbb7b"
      },
      "outputs": [],
      "source": [
        "import numpy as np\n",
        "import pandas as pd\n",
        "import matplotlib.pyplot as plt\n",
        "import seaborn as sns"
      ]
    },
    {
      "cell_type": "code",
      "execution_count": null,
      "id": "2f454d66",
      "metadata": {
        "id": "2f454d66"
      },
      "outputs": [],
      "source": [
        "df=pd.read_csv('insurance.csv')"
      ]
    },
    {
      "cell_type": "code",
      "execution_count": null,
      "id": "26397336",
      "metadata": {
        "id": "26397336",
        "outputId": "e8f33a43-22b7-4608-f284-97482de7327e"
      },
      "outputs": [
        {
          "data": {
            "text/html": [
              "<div>\n",
              "<style scoped>\n",
              "    .dataframe tbody tr th:only-of-type {\n",
              "        vertical-align: middle;\n",
              "    }\n",
              "\n",
              "    .dataframe tbody tr th {\n",
              "        vertical-align: top;\n",
              "    }\n",
              "\n",
              "    .dataframe thead th {\n",
              "        text-align: right;\n",
              "    }\n",
              "</style>\n",
              "<table border=\"1\" class=\"dataframe\">\n",
              "  <thead>\n",
              "    <tr style=\"text-align: right;\">\n",
              "      <th></th>\n",
              "      <th>age</th>\n",
              "      <th>sex</th>\n",
              "      <th>bmi</th>\n",
              "      <th>children</th>\n",
              "      <th>smoker</th>\n",
              "      <th>region</th>\n",
              "      <th>charges</th>\n",
              "    </tr>\n",
              "  </thead>\n",
              "  <tbody>\n",
              "    <tr>\n",
              "      <th>0</th>\n",
              "      <td>19</td>\n",
              "      <td>female</td>\n",
              "      <td>27.900</td>\n",
              "      <td>0</td>\n",
              "      <td>yes</td>\n",
              "      <td>southwest</td>\n",
              "      <td>16884.92400</td>\n",
              "    </tr>\n",
              "    <tr>\n",
              "      <th>1</th>\n",
              "      <td>18</td>\n",
              "      <td>male</td>\n",
              "      <td>33.770</td>\n",
              "      <td>1</td>\n",
              "      <td>no</td>\n",
              "      <td>southeast</td>\n",
              "      <td>1725.55230</td>\n",
              "    </tr>\n",
              "    <tr>\n",
              "      <th>2</th>\n",
              "      <td>28</td>\n",
              "      <td>male</td>\n",
              "      <td>33.000</td>\n",
              "      <td>3</td>\n",
              "      <td>no</td>\n",
              "      <td>southeast</td>\n",
              "      <td>4449.46200</td>\n",
              "    </tr>\n",
              "    <tr>\n",
              "      <th>3</th>\n",
              "      <td>33</td>\n",
              "      <td>male</td>\n",
              "      <td>22.705</td>\n",
              "      <td>0</td>\n",
              "      <td>no</td>\n",
              "      <td>northwest</td>\n",
              "      <td>21984.47061</td>\n",
              "    </tr>\n",
              "    <tr>\n",
              "      <th>4</th>\n",
              "      <td>32</td>\n",
              "      <td>male</td>\n",
              "      <td>28.880</td>\n",
              "      <td>0</td>\n",
              "      <td>no</td>\n",
              "      <td>northwest</td>\n",
              "      <td>3866.85520</td>\n",
              "    </tr>\n",
              "  </tbody>\n",
              "</table>\n",
              "</div>"
            ],
            "text/plain": [
              "   age     sex     bmi  children smoker     region      charges\n",
              "0   19  female  27.900         0    yes  southwest  16884.92400\n",
              "1   18    male  33.770         1     no  southeast   1725.55230\n",
              "2   28    male  33.000         3     no  southeast   4449.46200\n",
              "3   33    male  22.705         0     no  northwest  21984.47061\n",
              "4   32    male  28.880         0     no  northwest   3866.85520"
            ]
          },
          "execution_count": 3,
          "metadata": {},
          "output_type": "execute_result"
        }
      ],
      "source": [
        "df.head()"
      ]
    },
    {
      "cell_type": "code",
      "execution_count": null,
      "id": "4bba61ee",
      "metadata": {
        "id": "4bba61ee"
      },
      "outputs": [],
      "source": [
        "df['sex']=df['sex'].replace('female',0)\n",
        "df['sex']=df['sex'].replace('male',1)"
      ]
    },
    {
      "cell_type": "code",
      "execution_count": null,
      "id": "ccd8ef2f",
      "metadata": {
        "id": "ccd8ef2f",
        "outputId": "9435dcd8-07e7-4f1d-8d73-ee3df6c4eaac"
      },
      "outputs": [
        {
          "data": {
            "text/html": [
              "<div>\n",
              "<style scoped>\n",
              "    .dataframe tbody tr th:only-of-type {\n",
              "        vertical-align: middle;\n",
              "    }\n",
              "\n",
              "    .dataframe tbody tr th {\n",
              "        vertical-align: top;\n",
              "    }\n",
              "\n",
              "    .dataframe thead th {\n",
              "        text-align: right;\n",
              "    }\n",
              "</style>\n",
              "<table border=\"1\" class=\"dataframe\">\n",
              "  <thead>\n",
              "    <tr style=\"text-align: right;\">\n",
              "      <th></th>\n",
              "      <th>age</th>\n",
              "      <th>sex</th>\n",
              "      <th>bmi</th>\n",
              "      <th>children</th>\n",
              "      <th>smoker</th>\n",
              "      <th>region</th>\n",
              "      <th>charges</th>\n",
              "    </tr>\n",
              "  </thead>\n",
              "  <tbody>\n",
              "    <tr>\n",
              "      <th>0</th>\n",
              "      <td>19</td>\n",
              "      <td>0</td>\n",
              "      <td>27.900</td>\n",
              "      <td>0</td>\n",
              "      <td>yes</td>\n",
              "      <td>southwest</td>\n",
              "      <td>16884.92400</td>\n",
              "    </tr>\n",
              "    <tr>\n",
              "      <th>1</th>\n",
              "      <td>18</td>\n",
              "      <td>1</td>\n",
              "      <td>33.770</td>\n",
              "      <td>1</td>\n",
              "      <td>no</td>\n",
              "      <td>southeast</td>\n",
              "      <td>1725.55230</td>\n",
              "    </tr>\n",
              "    <tr>\n",
              "      <th>2</th>\n",
              "      <td>28</td>\n",
              "      <td>1</td>\n",
              "      <td>33.000</td>\n",
              "      <td>3</td>\n",
              "      <td>no</td>\n",
              "      <td>southeast</td>\n",
              "      <td>4449.46200</td>\n",
              "    </tr>\n",
              "    <tr>\n",
              "      <th>3</th>\n",
              "      <td>33</td>\n",
              "      <td>1</td>\n",
              "      <td>22.705</td>\n",
              "      <td>0</td>\n",
              "      <td>no</td>\n",
              "      <td>northwest</td>\n",
              "      <td>21984.47061</td>\n",
              "    </tr>\n",
              "    <tr>\n",
              "      <th>4</th>\n",
              "      <td>32</td>\n",
              "      <td>1</td>\n",
              "      <td>28.880</td>\n",
              "      <td>0</td>\n",
              "      <td>no</td>\n",
              "      <td>northwest</td>\n",
              "      <td>3866.85520</td>\n",
              "    </tr>\n",
              "  </tbody>\n",
              "</table>\n",
              "</div>"
            ],
            "text/plain": [
              "   age  sex     bmi  children smoker     region      charges\n",
              "0   19    0  27.900         0    yes  southwest  16884.92400\n",
              "1   18    1  33.770         1     no  southeast   1725.55230\n",
              "2   28    1  33.000         3     no  southeast   4449.46200\n",
              "3   33    1  22.705         0     no  northwest  21984.47061\n",
              "4   32    1  28.880         0     no  northwest   3866.85520"
            ]
          },
          "execution_count": 5,
          "metadata": {},
          "output_type": "execute_result"
        }
      ],
      "source": [
        "df.head()"
      ]
    },
    {
      "cell_type": "code",
      "execution_count": null,
      "id": "a41f11a5",
      "metadata": {
        "id": "a41f11a5"
      },
      "outputs": [],
      "source": [
        "df['smoker']=df['smoker'].replace('yes',1)\n",
        "df['smoker']=df['smoker'].replace('no',0)"
      ]
    },
    {
      "cell_type": "code",
      "execution_count": null,
      "id": "75d165d4",
      "metadata": {
        "id": "75d165d4",
        "outputId": "298f7f6f-98f1-4e36-fd27-b8a91e4b9a1b"
      },
      "outputs": [
        {
          "data": {
            "text/html": [
              "<div>\n",
              "<style scoped>\n",
              "    .dataframe tbody tr th:only-of-type {\n",
              "        vertical-align: middle;\n",
              "    }\n",
              "\n",
              "    .dataframe tbody tr th {\n",
              "        vertical-align: top;\n",
              "    }\n",
              "\n",
              "    .dataframe thead th {\n",
              "        text-align: right;\n",
              "    }\n",
              "</style>\n",
              "<table border=\"1\" class=\"dataframe\">\n",
              "  <thead>\n",
              "    <tr style=\"text-align: right;\">\n",
              "      <th></th>\n",
              "      <th>age</th>\n",
              "      <th>sex</th>\n",
              "      <th>bmi</th>\n",
              "      <th>children</th>\n",
              "      <th>smoker</th>\n",
              "      <th>region</th>\n",
              "      <th>charges</th>\n",
              "    </tr>\n",
              "  </thead>\n",
              "  <tbody>\n",
              "    <tr>\n",
              "      <th>0</th>\n",
              "      <td>19</td>\n",
              "      <td>0</td>\n",
              "      <td>27.900</td>\n",
              "      <td>0</td>\n",
              "      <td>1</td>\n",
              "      <td>southwest</td>\n",
              "      <td>16884.92400</td>\n",
              "    </tr>\n",
              "    <tr>\n",
              "      <th>1</th>\n",
              "      <td>18</td>\n",
              "      <td>1</td>\n",
              "      <td>33.770</td>\n",
              "      <td>1</td>\n",
              "      <td>0</td>\n",
              "      <td>southeast</td>\n",
              "      <td>1725.55230</td>\n",
              "    </tr>\n",
              "    <tr>\n",
              "      <th>2</th>\n",
              "      <td>28</td>\n",
              "      <td>1</td>\n",
              "      <td>33.000</td>\n",
              "      <td>3</td>\n",
              "      <td>0</td>\n",
              "      <td>southeast</td>\n",
              "      <td>4449.46200</td>\n",
              "    </tr>\n",
              "    <tr>\n",
              "      <th>3</th>\n",
              "      <td>33</td>\n",
              "      <td>1</td>\n",
              "      <td>22.705</td>\n",
              "      <td>0</td>\n",
              "      <td>0</td>\n",
              "      <td>northwest</td>\n",
              "      <td>21984.47061</td>\n",
              "    </tr>\n",
              "    <tr>\n",
              "      <th>4</th>\n",
              "      <td>32</td>\n",
              "      <td>1</td>\n",
              "      <td>28.880</td>\n",
              "      <td>0</td>\n",
              "      <td>0</td>\n",
              "      <td>northwest</td>\n",
              "      <td>3866.85520</td>\n",
              "    </tr>\n",
              "  </tbody>\n",
              "</table>\n",
              "</div>"
            ],
            "text/plain": [
              "   age  sex     bmi  children  smoker     region      charges\n",
              "0   19    0  27.900         0       1  southwest  16884.92400\n",
              "1   18    1  33.770         1       0  southeast   1725.55230\n",
              "2   28    1  33.000         3       0  southeast   4449.46200\n",
              "3   33    1  22.705         0       0  northwest  21984.47061\n",
              "4   32    1  28.880         0       0  northwest   3866.85520"
            ]
          },
          "execution_count": 7,
          "metadata": {},
          "output_type": "execute_result"
        }
      ],
      "source": [
        "df.head()"
      ]
    },
    {
      "cell_type": "code",
      "execution_count": null,
      "id": "1411070d",
      "metadata": {
        "id": "1411070d",
        "outputId": "5ee185e7-4a54-4cd0-8de9-016a0d84f42b"
      },
      "outputs": [
        {
          "data": {
            "text/plain": [
              "array(['southwest', 'southeast', 'northwest', 'northeast'], dtype=object)"
            ]
          },
          "execution_count": 8,
          "metadata": {},
          "output_type": "execute_result"
        }
      ],
      "source": [
        "# Get unique entries in the 'Category' column\n",
        "unique_entries = df['region'].unique()\n",
        "unique_entries"
      ]
    },
    {
      "cell_type": "code",
      "execution_count": null,
      "id": "4c586c34",
      "metadata": {
        "id": "4c586c34",
        "outputId": "5e68e531-dd62-4417-ca11-e80124afaea2"
      },
      "outputs": [
        {
          "data": {
            "text/plain": [
              "0       4\n",
              "1       3\n",
              "2       3\n",
              "3       2\n",
              "4       2\n",
              "       ..\n",
              "1333    2\n",
              "1334    1\n",
              "1335    3\n",
              "1336    4\n",
              "1337    2\n",
              "Name: region, Length: 1338, dtype: int64"
            ]
          },
          "execution_count": 9,
          "metadata": {},
          "output_type": "execute_result"
        }
      ],
      "source": [
        "df.region=df.region.map({'northeast':1,'northwest':2,'southeast':3,'southwest':4})\n",
        "df.region"
      ]
    },
    {
      "cell_type": "code",
      "execution_count": null,
      "id": "e702c828",
      "metadata": {
        "id": "e702c828",
        "outputId": "b59a2625-c6ca-4eb6-acc5-7c7ee0780291"
      },
      "outputs": [
        {
          "data": {
            "text/html": [
              "<div>\n",
              "<style scoped>\n",
              "    .dataframe tbody tr th:only-of-type {\n",
              "        vertical-align: middle;\n",
              "    }\n",
              "\n",
              "    .dataframe tbody tr th {\n",
              "        vertical-align: top;\n",
              "    }\n",
              "\n",
              "    .dataframe thead th {\n",
              "        text-align: right;\n",
              "    }\n",
              "</style>\n",
              "<table border=\"1\" class=\"dataframe\">\n",
              "  <thead>\n",
              "    <tr style=\"text-align: right;\">\n",
              "      <th></th>\n",
              "      <th>age</th>\n",
              "      <th>sex</th>\n",
              "      <th>bmi</th>\n",
              "      <th>children</th>\n",
              "      <th>smoker</th>\n",
              "      <th>region</th>\n",
              "      <th>charges</th>\n",
              "    </tr>\n",
              "  </thead>\n",
              "  <tbody>\n",
              "    <tr>\n",
              "      <th>0</th>\n",
              "      <td>19</td>\n",
              "      <td>0</td>\n",
              "      <td>27.900</td>\n",
              "      <td>0</td>\n",
              "      <td>1</td>\n",
              "      <td>4</td>\n",
              "      <td>16884.92400</td>\n",
              "    </tr>\n",
              "    <tr>\n",
              "      <th>1</th>\n",
              "      <td>18</td>\n",
              "      <td>1</td>\n",
              "      <td>33.770</td>\n",
              "      <td>1</td>\n",
              "      <td>0</td>\n",
              "      <td>3</td>\n",
              "      <td>1725.55230</td>\n",
              "    </tr>\n",
              "    <tr>\n",
              "      <th>2</th>\n",
              "      <td>28</td>\n",
              "      <td>1</td>\n",
              "      <td>33.000</td>\n",
              "      <td>3</td>\n",
              "      <td>0</td>\n",
              "      <td>3</td>\n",
              "      <td>4449.46200</td>\n",
              "    </tr>\n",
              "    <tr>\n",
              "      <th>3</th>\n",
              "      <td>33</td>\n",
              "      <td>1</td>\n",
              "      <td>22.705</td>\n",
              "      <td>0</td>\n",
              "      <td>0</td>\n",
              "      <td>2</td>\n",
              "      <td>21984.47061</td>\n",
              "    </tr>\n",
              "    <tr>\n",
              "      <th>4</th>\n",
              "      <td>32</td>\n",
              "      <td>1</td>\n",
              "      <td>28.880</td>\n",
              "      <td>0</td>\n",
              "      <td>0</td>\n",
              "      <td>2</td>\n",
              "      <td>3866.85520</td>\n",
              "    </tr>\n",
              "    <tr>\n",
              "      <th>...</th>\n",
              "      <td>...</td>\n",
              "      <td>...</td>\n",
              "      <td>...</td>\n",
              "      <td>...</td>\n",
              "      <td>...</td>\n",
              "      <td>...</td>\n",
              "      <td>...</td>\n",
              "    </tr>\n",
              "    <tr>\n",
              "      <th>1333</th>\n",
              "      <td>50</td>\n",
              "      <td>1</td>\n",
              "      <td>30.970</td>\n",
              "      <td>3</td>\n",
              "      <td>0</td>\n",
              "      <td>2</td>\n",
              "      <td>10600.54830</td>\n",
              "    </tr>\n",
              "    <tr>\n",
              "      <th>1334</th>\n",
              "      <td>18</td>\n",
              "      <td>0</td>\n",
              "      <td>31.920</td>\n",
              "      <td>0</td>\n",
              "      <td>0</td>\n",
              "      <td>1</td>\n",
              "      <td>2205.98080</td>\n",
              "    </tr>\n",
              "    <tr>\n",
              "      <th>1335</th>\n",
              "      <td>18</td>\n",
              "      <td>0</td>\n",
              "      <td>36.850</td>\n",
              "      <td>0</td>\n",
              "      <td>0</td>\n",
              "      <td>3</td>\n",
              "      <td>1629.83350</td>\n",
              "    </tr>\n",
              "    <tr>\n",
              "      <th>1336</th>\n",
              "      <td>21</td>\n",
              "      <td>0</td>\n",
              "      <td>25.800</td>\n",
              "      <td>0</td>\n",
              "      <td>0</td>\n",
              "      <td>4</td>\n",
              "      <td>2007.94500</td>\n",
              "    </tr>\n",
              "    <tr>\n",
              "      <th>1337</th>\n",
              "      <td>61</td>\n",
              "      <td>0</td>\n",
              "      <td>29.070</td>\n",
              "      <td>0</td>\n",
              "      <td>1</td>\n",
              "      <td>2</td>\n",
              "      <td>29141.36030</td>\n",
              "    </tr>\n",
              "  </tbody>\n",
              "</table>\n",
              "<p>1338 rows × 7 columns</p>\n",
              "</div>"
            ],
            "text/plain": [
              "      age  sex     bmi  children  smoker  region      charges\n",
              "0      19    0  27.900         0       1       4  16884.92400\n",
              "1      18    1  33.770         1       0       3   1725.55230\n",
              "2      28    1  33.000         3       0       3   4449.46200\n",
              "3      33    1  22.705         0       0       2  21984.47061\n",
              "4      32    1  28.880         0       0       2   3866.85520\n",
              "...   ...  ...     ...       ...     ...     ...          ...\n",
              "1333   50    1  30.970         3       0       2  10600.54830\n",
              "1334   18    0  31.920         0       0       1   2205.98080\n",
              "1335   18    0  36.850         0       0       3   1629.83350\n",
              "1336   21    0  25.800         0       0       4   2007.94500\n",
              "1337   61    0  29.070         0       1       2  29141.36030\n",
              "\n",
              "[1338 rows x 7 columns]"
            ]
          },
          "execution_count": 10,
          "metadata": {},
          "output_type": "execute_result"
        }
      ],
      "source": [
        "df"
      ]
    },
    {
      "cell_type": "code",
      "execution_count": null,
      "id": "dd8d0887",
      "metadata": {
        "id": "dd8d0887"
      },
      "outputs": [],
      "source": [
        "\n",
        "from sklearn.model_selection import train_test_split\n"
      ]
    },
    {
      "cell_type": "code",
      "execution_count": null,
      "id": "5629b169",
      "metadata": {
        "id": "5629b169"
      },
      "outputs": [],
      "source": [
        "X =df.drop(['charges'],axis='columns')  # Your feature data\n",
        "Y =df.drop(['age','sex','bmi','children','smoker','region'],axis='columns')# Your target variable\n",
        "\n",
        "X_train, X_test, Y_train, Y_test = train_test_split(X, Y, test_size=0.2, random_state=42)\n"
      ]
    },
    {
      "cell_type": "code",
      "execution_count": null,
      "id": "199019a3",
      "metadata": {
        "id": "199019a3",
        "outputId": "1c857514-280c-4b4a-ceba-d33d88a4ec17"
      },
      "outputs": [
        {
          "data": {
            "text/plain": [
              "(1070, 6)"
            ]
          },
          "execution_count": 13,
          "metadata": {},
          "output_type": "execute_result"
        }
      ],
      "source": [
        "X_train.shape"
      ]
    },
    {
      "cell_type": "code",
      "execution_count": null,
      "id": "fcffcd1b",
      "metadata": {
        "id": "fcffcd1b",
        "outputId": "06c37d2f-8cf7-4dbb-fe92-828b7d04019c"
      },
      "outputs": [
        {
          "data": {
            "text/plain": [
              "(268, 6)"
            ]
          },
          "execution_count": 14,
          "metadata": {},
          "output_type": "execute_result"
        }
      ],
      "source": [
        "X_test.shape"
      ]
    },
    {
      "cell_type": "code",
      "execution_count": null,
      "id": "e3220c8e",
      "metadata": {
        "id": "e3220c8e",
        "outputId": "ec635fb3-b5bd-46dd-b489-8e548b8537fb"
      },
      "outputs": [
        {
          "data": {
            "text/html": [
              "<style>#sk-container-id-1 {color: black;background-color: white;}#sk-container-id-1 pre{padding: 0;}#sk-container-id-1 div.sk-toggleable {background-color: white;}#sk-container-id-1 label.sk-toggleable__label {cursor: pointer;display: block;width: 100%;margin-bottom: 0;padding: 0.3em;box-sizing: border-box;text-align: center;}#sk-container-id-1 label.sk-toggleable__label-arrow:before {content: \"▸\";float: left;margin-right: 0.25em;color: #696969;}#sk-container-id-1 label.sk-toggleable__label-arrow:hover:before {color: black;}#sk-container-id-1 div.sk-estimator:hover label.sk-toggleable__label-arrow:before {color: black;}#sk-container-id-1 div.sk-toggleable__content {max-height: 0;max-width: 0;overflow: hidden;text-align: left;background-color: #f0f8ff;}#sk-container-id-1 div.sk-toggleable__content pre {margin: 0.2em;color: black;border-radius: 0.25em;background-color: #f0f8ff;}#sk-container-id-1 input.sk-toggleable__control:checked~div.sk-toggleable__content {max-height: 200px;max-width: 100%;overflow: auto;}#sk-container-id-1 input.sk-toggleable__control:checked~label.sk-toggleable__label-arrow:before {content: \"▾\";}#sk-container-id-1 div.sk-estimator input.sk-toggleable__control:checked~label.sk-toggleable__label {background-color: #d4ebff;}#sk-container-id-1 div.sk-label input.sk-toggleable__control:checked~label.sk-toggleable__label {background-color: #d4ebff;}#sk-container-id-1 input.sk-hidden--visually {border: 0;clip: rect(1px 1px 1px 1px);clip: rect(1px, 1px, 1px, 1px);height: 1px;margin: -1px;overflow: hidden;padding: 0;position: absolute;width: 1px;}#sk-container-id-1 div.sk-estimator {font-family: monospace;background-color: #f0f8ff;border: 1px dotted black;border-radius: 0.25em;box-sizing: border-box;margin-bottom: 0.5em;}#sk-container-id-1 div.sk-estimator:hover {background-color: #d4ebff;}#sk-container-id-1 div.sk-parallel-item::after {content: \"\";width: 100%;border-bottom: 1px solid gray;flex-grow: 1;}#sk-container-id-1 div.sk-label:hover label.sk-toggleable__label {background-color: #d4ebff;}#sk-container-id-1 div.sk-serial::before {content: \"\";position: absolute;border-left: 1px solid gray;box-sizing: border-box;top: 0;bottom: 0;left: 50%;z-index: 0;}#sk-container-id-1 div.sk-serial {display: flex;flex-direction: column;align-items: center;background-color: white;padding-right: 0.2em;padding-left: 0.2em;position: relative;}#sk-container-id-1 div.sk-item {position: relative;z-index: 1;}#sk-container-id-1 div.sk-parallel {display: flex;align-items: stretch;justify-content: center;background-color: white;position: relative;}#sk-container-id-1 div.sk-item::before, #sk-container-id-1 div.sk-parallel-item::before {content: \"\";position: absolute;border-left: 1px solid gray;box-sizing: border-box;top: 0;bottom: 0;left: 50%;z-index: -1;}#sk-container-id-1 div.sk-parallel-item {display: flex;flex-direction: column;z-index: 1;position: relative;background-color: white;}#sk-container-id-1 div.sk-parallel-item:first-child::after {align-self: flex-end;width: 50%;}#sk-container-id-1 div.sk-parallel-item:last-child::after {align-self: flex-start;width: 50%;}#sk-container-id-1 div.sk-parallel-item:only-child::after {width: 0;}#sk-container-id-1 div.sk-dashed-wrapped {border: 1px dashed gray;margin: 0 0.4em 0.5em 0.4em;box-sizing: border-box;padding-bottom: 0.4em;background-color: white;}#sk-container-id-1 div.sk-label label {font-family: monospace;font-weight: bold;display: inline-block;line-height: 1.2em;}#sk-container-id-1 div.sk-label-container {text-align: center;}#sk-container-id-1 div.sk-container {/* jupyter's `normalize.less` sets `[hidden] { display: none; }` but bootstrap.min.css set `[hidden] { display: none !important; }` so we also need the `!important` here to be able to override the default hidden behavior on the sphinx rendered scikit-learn.org. See: https://github.com/scikit-learn/scikit-learn/issues/21755 */display: inline-block !important;position: relative;}#sk-container-id-1 div.sk-text-repr-fallback {display: none;}</style><div id=\"sk-container-id-1\" class=\"sk-top-container\"><div class=\"sk-text-repr-fallback\"><pre>LinearRegression()</pre><b>In a Jupyter environment, please rerun this cell to show the HTML representation or trust the notebook. <br />On GitHub, the HTML representation is unable to render, please try loading this page with nbviewer.org.</b></div><div class=\"sk-container\" hidden><div class=\"sk-item\"><div class=\"sk-estimator sk-toggleable\"><input class=\"sk-toggleable__control sk-hidden--visually\" id=\"sk-estimator-id-1\" type=\"checkbox\" checked><label for=\"sk-estimator-id-1\" class=\"sk-toggleable__label sk-toggleable__label-arrow\">LinearRegression</label><div class=\"sk-toggleable__content\"><pre>LinearRegression()</pre></div></div></div></div></div>"
            ],
            "text/plain": [
              "LinearRegression()"
            ]
          },
          "execution_count": 15,
          "metadata": {},
          "output_type": "execute_result"
        }
      ],
      "source": [
        "from sklearn.linear_model import LinearRegression\n",
        "reg= LinearRegression()\n",
        "reg.fit(X_train,Y_train)"
      ]
    },
    {
      "cell_type": "code",
      "execution_count": null,
      "id": "aed22bad",
      "metadata": {
        "id": "aed22bad",
        "outputId": "3735586b-2dbe-445c-916d-8dcf0078d5c1"
      },
      "outputs": [
        {
          "data": {
            "text/plain": [
              "array([[ 8924.40724442],\n",
              "       [ 7116.29501758],\n",
              "       [36909.01352144],\n",
              "       [ 9507.87469118],\n",
              "       [27013.3500079 ],\n",
              "       [10790.77956153],\n",
              "       [  226.29844571],\n",
              "       [16942.71599941],\n",
              "       [ 1056.63079407],\n",
              "       [11267.91997309],\n",
              "       [28048.59793155],\n",
              "       [ 9424.36324087],\n",
              "       [ 5326.32232088],\n",
              "       [38460.06017922],\n",
              "       [40303.40597026],\n",
              "       [37147.01010262],\n",
              "       [15287.91876684],\n",
              "       [35965.05485917],\n",
              "       [ 9179.1753067 ],\n",
              "       [31510.8319849 ],\n",
              "       [ 3797.79068365],\n",
              "       [10070.82803304],\n",
              "       [ 2312.57551348],\n",
              "       [ 7074.41348194],\n",
              "       [11352.37224357],\n",
              "       [12907.77079523],\n",
              "       [14448.84678727],\n",
              "       [ 6205.65997921],\n",
              "       [ 9917.00839638],\n",
              "       [ 2239.50032819],\n",
              "       [ 9060.55469043],\n",
              "       [13120.56214535],\n",
              "       [ 4617.70702822],\n",
              "       [ 3467.91218926],\n",
              "       [ 4402.74821855],\n",
              "       [12967.91608907],\n",
              "       [ 1927.44498944],\n",
              "       [ 8757.9180081 ],\n",
              "       [33324.35180597],\n",
              "       [32638.47697026],\n",
              "       [ 3852.41756615],\n",
              "       [ 4370.39670883],\n",
              "       [14080.76023234],\n",
              "       [11478.63402576],\n",
              "       [ 8829.26135924],\n",
              "       [12046.15119133],\n",
              "       [ 5322.80515731],\n",
              "       [ 3100.71182484],\n",
              "       [35546.60547574],\n",
              "       [ 9201.61196817],\n",
              "       [15894.23763341],\n",
              "       [ 2406.04003607],\n",
              "       [12397.52052544],\n",
              "       [ 1433.90617387],\n",
              "       [13448.14094304],\n",
              "       [12519.54174599],\n",
              "       [ 4295.28664609],\n",
              "       [32202.67982224],\n",
              "       [13263.171278  ],\n",
              "       [12842.10998145],\n",
              "       [14111.93665793],\n",
              "       [10551.59361363],\n",
              "       [16298.16745307],\n",
              "       [ 7818.15570419],\n",
              "       [11787.5726767 ],\n",
              "       [ 4113.26897366],\n",
              "       [26596.69895299],\n",
              "       [10998.86488364],\n",
              "       [ 2193.72748353],\n",
              "       [ 6139.35587246],\n",
              "       [10668.53569182],\n",
              "       [11573.9066314 ],\n",
              "       [11041.12265049],\n",
              "       [ 9226.58405681],\n",
              "       [12007.44404757],\n",
              "       [ 6811.43260247],\n",
              "       [ 7191.83534635],\n",
              "       [10790.05517482],\n",
              "       [ 6639.37239748],\n",
              "       [ 8711.93118512],\n",
              "       [ 3824.75581175],\n",
              "       [36583.59532017],\n",
              "       [ 6321.81241487],\n",
              "       [30776.79577931],\n",
              "       [34875.57159272],\n",
              "       [35221.47920524],\n",
              "       [ 7079.6173919 ],\n",
              "       [12906.65057781],\n",
              "       [ 9989.1664665 ],\n",
              "       [14409.60808941],\n",
              "       [17632.66059003],\n",
              "       [35329.860348  ],\n",
              "       [32980.23882829],\n",
              "       [ 6136.20837946],\n",
              "       [32051.98799937],\n",
              "       [ 9422.40290935],\n",
              "       [29504.90196714],\n",
              "       [ 3732.73937642],\n",
              "       [28359.80070947],\n",
              "       [ 5779.65825838],\n",
              "       [ 5456.76178371],\n",
              "       [ 1827.69473369],\n",
              "       [11549.90308087],\n",
              "       [15012.88613485],\n",
              "       [11657.94522782],\n",
              "       [ 4363.64612857],\n",
              "       [ 9957.82591489],\n",
              "       [31781.66667504],\n",
              "       [ -129.15666671],\n",
              "       [32890.39693986],\n",
              "       [ 3219.18553916],\n",
              "       [10224.50053069],\n",
              "       [14265.38958083],\n",
              "       [31584.36114122],\n",
              "       [11409.59610007],\n",
              "       [ 3867.75510966],\n",
              "       [13059.64952969],\n",
              "       [31756.32678896],\n",
              "       [ 8214.15949009],\n",
              "       [ 3287.68482341],\n",
              "       [ 8383.13242816],\n",
              "       [10636.53442336],\n",
              "       [15157.79567852],\n",
              "       [ 5702.50803854],\n",
              "       [ 3836.57711344],\n",
              "       [10272.53498033],\n",
              "       [10956.58803242],\n",
              "       [11071.81222693],\n",
              "       [14496.65293874],\n",
              "       [ 7476.92979541],\n",
              "       [ 5450.7838718 ],\n",
              "       [ 9288.29781036],\n",
              "       [ 9399.10130723],\n",
              "       [12476.31967945],\n",
              "       [ 8278.36782145],\n",
              "       [15269.65350487],\n",
              "       [ 8352.0773264 ],\n",
              "       [31738.37507699],\n",
              "       [35819.0919374 ],\n",
              "       [31547.64757647],\n",
              "       [ 6063.62004331],\n",
              "       [12551.29214568],\n",
              "       [ 6068.87670979],\n",
              "       [14599.41823771],\n",
              "       [ 2561.45561332],\n",
              "       [32910.51327403],\n",
              "       [ 6315.23815745],\n",
              "       [ 4979.52619562],\n",
              "       [14384.66253028],\n",
              "       [ 6884.14533684],\n",
              "       [38706.08936188],\n",
              "       [ 3136.57875731],\n",
              "       [ 5933.09672913],\n",
              "       [31625.64350684],\n",
              "       [11596.31482335],\n",
              "       [ 8417.73814018],\n",
              "       [14754.03399782],\n",
              "       [ 9879.46313846],\n",
              "       [27160.43717287],\n",
              "       [33395.00044119],\n",
              "       [14499.08558691],\n",
              "       [ 1735.96411757],\n",
              "       [13118.53913261],\n",
              "       [ 2176.90038413],\n",
              "       [ 5388.3723652 ],\n",
              "       [11622.93526416],\n",
              "       [39740.86555088],\n",
              "       [36545.08554993],\n",
              "       [33944.7368711 ],\n",
              "       [ 3840.12640295],\n",
              "       [ 7412.53476742],\n",
              "       [ 8602.72483011],\n",
              "       [12382.55575653],\n",
              "       [ 4865.6463079 ],\n",
              "       [ 1994.45684083],\n",
              "       [32178.79507351],\n",
              "       [25053.78358388],\n",
              "       [17536.06907271],\n",
              "       [26471.06879885],\n",
              "       [10217.73115571],\n",
              "       [37210.3346986 ],\n",
              "       [ -477.16780371],\n",
              "       [ 6841.29733603],\n",
              "       [ 7720.38130108],\n",
              "       [ 4324.62825932],\n",
              "       [ 5148.0933114 ],\n",
              "       [ 5866.88847075],\n",
              "       [ 4252.37584458],\n",
              "       [15235.17791982],\n",
              "       [11184.09152901],\n",
              "       [ 6865.81092558],\n",
              "       [ 2473.47336319],\n",
              "       [ 1492.04619416],\n",
              "       [31876.36248207],\n",
              "       [16467.91708528],\n",
              "       [12070.84318949],\n",
              "       [ 1321.2739762 ],\n",
              "       [12481.98404136],\n",
              "       [ 1516.49611385],\n",
              "       [ 8688.35998638],\n",
              "       [ 1929.99456629],\n",
              "       [33965.04310923],\n",
              "       [10902.16179703],\n",
              "       [ 2652.65198314],\n",
              "       [25737.23494393],\n",
              "       [26409.75401731],\n",
              "       [ 9484.12006941],\n",
              "       [ 1858.05146312],\n",
              "       [13312.36096237],\n",
              "       [ 1075.29369445],\n",
              "       [10343.96143124],\n",
              "       [10640.16353845],\n",
              "       [16869.18074438],\n",
              "       [26909.56154116],\n",
              "       [ 7008.93073183],\n",
              "       [ 5143.45838554],\n",
              "       [ 5911.31580735],\n",
              "       [13297.21771797],\n",
              "       [11170.92069347],\n",
              "       [ 8419.97039114],\n",
              "       [ 5174.40556158],\n",
              "       [12343.87783448],\n",
              "       [13902.30234269],\n",
              "       [35823.29733596],\n",
              "       [ 4200.49918603],\n",
              "       [28974.98455685],\n",
              "       [ -959.29164157],\n",
              "       [ 2918.94252879],\n",
              "       [11110.5125204 ],\n",
              "       [15731.80607464],\n",
              "       [ 5263.76292369],\n",
              "       [ 6952.83452504],\n",
              "       [ 3804.57987076],\n",
              "       [31256.71206045],\n",
              "       [ 7305.58851362],\n",
              "       [12461.33830574],\n",
              "       [ 5664.21701114],\n",
              "       [ 9467.26109398],\n",
              "       [36360.68777321],\n",
              "       [ 4486.61219507],\n",
              "       [ 9633.32288878],\n",
              "       [31093.62476199],\n",
              "       [ 5787.94047478],\n",
              "       [ 4665.96142198],\n",
              "       [ 1100.68575505],\n",
              "       [ 4877.83258252],\n",
              "       [ 4521.289931  ],\n",
              "       [ 6448.7580369 ],\n",
              "       [18700.99259398],\n",
              "       [-1483.15281815],\n",
              "       [ 2319.79804103],\n",
              "       [10631.36072374],\n",
              "       [ 3100.2784844 ],\n",
              "       [10170.02300527],\n",
              "       [ 3777.51558282],\n",
              "       [ 5184.56040253],\n",
              "       [12348.21008641],\n",
              "       [ 6259.90128781],\n",
              "       [ 8190.47916435],\n",
              "       [ 7537.06854145],\n",
              "       [ 8973.20505699],\n",
              "       [10544.17289411],\n",
              "       [27868.40112099],\n",
              "       [39116.96866869],\n",
              "       [11814.55556842],\n",
              "       [ 7638.1077356 ],\n",
              "       [40959.08172164],\n",
              "       [12258.22852853]])"
            ]
          },
          "execution_count": 16,
          "metadata": {},
          "output_type": "execute_result"
        }
      ],
      "source": [
        "y_test_predict= reg.predict(X_test)\n",
        "y_test_predict"
      ]
    },
    {
      "cell_type": "code",
      "execution_count": null,
      "id": "3ffacb7e",
      "metadata": {
        "id": "3ffacb7e"
      },
      "outputs": [],
      "source": []
    },
    {
      "cell_type": "code",
      "execution_count": null,
      "id": "fddf9324",
      "metadata": {
        "id": "fddf9324",
        "outputId": "7735c5bc-6d80-4627-9d20-812e983ffae7"
      },
      "outputs": [
        {
          "data": {
            "text/plain": [
              "(268, 6)"
            ]
          },
          "execution_count": 17,
          "metadata": {},
          "output_type": "execute_result"
        }
      ],
      "source": [
        "X_test.shape"
      ]
    },
    {
      "cell_type": "code",
      "execution_count": null,
      "id": "0974c160",
      "metadata": {
        "id": "0974c160",
        "outputId": "db304ee9-97a5-4688-93dd-71b8c55cf3e9"
      },
      "outputs": [
        {
          "data": {
            "text/plain": [
              "(268, 1)"
            ]
          },
          "execution_count": 18,
          "metadata": {},
          "output_type": "execute_result"
        }
      ],
      "source": [
        "Y_test.shape"
      ]
    },
    {
      "cell_type": "code",
      "execution_count": null,
      "id": "0865fe20",
      "metadata": {
        "id": "0865fe20",
        "outputId": "ac6d17fd-e3a3-4c88-f38b-1a65cc7c42b7"
      },
      "outputs": [
        {
          "data": {
            "text/plain": [
              "array([-11675.32230125])"
            ]
          },
          "execution_count": 19,
          "metadata": {},
          "output_type": "execute_result"
        }
      ],
      "source": [
        "c=reg.intercept_\n",
        "c"
      ]
    },
    {
      "cell_type": "code",
      "execution_count": null,
      "id": "b8439533",
      "metadata": {
        "id": "b8439533",
        "outputId": "bdbdbf87-7d91-4b2e-f0cd-f920c5e1e328"
      },
      "outputs": [
        {
          "data": {
            "text/plain": [
              "array([[ 2.57056264e+02, -1.87914567e+01,  3.35781491e+02,\n",
              "         4.25091456e+02,  2.36478181e+04, -2.71284266e+02]])"
            ]
          },
          "execution_count": 22,
          "metadata": {},
          "output_type": "execute_result"
        }
      ],
      "source": [
        "m = reg.coef_\n",
        "m"
      ]
    },
    {
      "cell_type": "code",
      "execution_count": null,
      "id": "dd9bf5e6",
      "metadata": {
        "id": "dd9bf5e6"
      },
      "outputs": [],
      "source": [
        "from sklearn.metrics import r2_score"
      ]
    },
    {
      "cell_type": "code",
      "execution_count": null,
      "id": "032afb22",
      "metadata": {
        "id": "032afb22",
        "outputId": "adb9e84d-a0a8-43ea-edad-f7b4a6efbd39"
      },
      "outputs": [
        {
          "data": {
            "text/plain": [
              "0.7833463107364539"
            ]
          },
          "execution_count": 24,
          "metadata": {},
          "output_type": "execute_result"
        }
      ],
      "source": [
        "r2_score(Y_test,y_test_predict )"
      ]
    },
    {
      "cell_type": "code",
      "execution_count": null,
      "id": "fcd07be0",
      "metadata": {
        "id": "fcd07be0"
      },
      "outputs": [],
      "source": []
    }
  ],
  "metadata": {
    "kernelspec": {
      "display_name": "Python 3 (ipykernel)",
      "language": "python",
      "name": "python3"
    },
    "language_info": {
      "codemirror_mode": {
        "name": "ipython",
        "version": 3
      },
      "file_extension": ".py",
      "mimetype": "text/x-python",
      "name": "python",
      "nbconvert_exporter": "python",
      "pygments_lexer": "ipython3",
      "version": "3.10.9"
    },
    "colab": {
      "provenance": []
    }
  },
  "nbformat": 4,
  "nbformat_minor": 5
}